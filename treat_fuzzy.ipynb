{
 "cells": [
  {
   "cell_type": "code",
   "execution_count": 1,
   "metadata": {},
   "outputs": [],
   "source": [
    "import pandas as pd\n",
    "from src.utils import parallel_match_organizations, treat_string"
   ]
  },
  {
   "cell_type": "code",
   "execution_count": 2,
   "metadata": {},
   "outputs": [],
   "source": [
    "# Example usage\n",
    "meetings_df = pd.read_csv(\"./data/meetings.csv\", dtype={\"member_id\": str})\n",
    "register_df = pd.read_excel(\n",
    "    r\"D:\\OneDrive\\UFPR\\00.PPGCP\\00. Doutorado\\Tese\\Base de dados\\Transparency register\\Organisations in Transparency Register-2024-JAN.xls\"\n",
    ")\n",
    "\n",
    "# Explode the attendees column and create new rows for each attendee\n",
    "meetings_df = meetings_df.reset_index(drop=True)  # Reset index to avoid duplicates\n",
    "meetings_df = meetings_df.assign(\n",
    "    attendees=meetings_df['attendees'].str.split(\"|\")\n",
    ").explode('attendees')"
   ]
  },
  {
   "cell_type": "code",
   "execution_count": 3,
   "metadata": {},
   "outputs": [
    {
     "name": "stderr",
     "output_type": "stream",
     "text": [
      "Processing batches: 100%|██████████| 9937/9937 [5:40:13<00:00,  2.05s/it]  \n"
     ]
    }
   ],
   "source": [
    "# Match organizations\n",
    "matched_df = parallel_match_organizations(\n",
    "    meetings_df,\n",
    "    register_df,\n",
    "    meetings_col='attendees',\n",
    "    register_col='Name',\n",
    "    batch_size=10,\n",
    "    threshold=75.0  # Adjust threshold as needed\n",
    ")\n",
    "\n",
    "# Filter high-confidence matches\n",
    "high_confidence_matches = matched_df[matched_df['match_confidence'] >= 85]\n",
    "high_confidence_matches.to_csv(\"high_confidence_matches.csv\")"
   ]
  },
  {
   "cell_type": "code",
   "execution_count": 4,
   "metadata": {},
   "outputs": [
    {
     "name": "stdout",
     "output_type": "stream",
     "text": [
      "national institute of standards and technology \n",
      " institute of metals and technology \n",
      " 78 82 78 89\n"
     ]
    }
   ],
   "source": [
    "from thefuzz import fuzz\n",
    "\n",
    "treated_name = treat_string(\"National Institute of Standards and Technology\")\n",
    "treated_candidate = treat_string(\"Institute of Metals and Technology\")\n",
    "# Try different fuzzy matching algorithms\n",
    "ratio = fuzz.ratio(treated_name, treated_candidate)\n",
    "partial_ratio = fuzz.partial_ratio(treated_name, treated_candidate)\n",
    "token_sort_ratio = fuzz.token_sort_ratio(treated_name, treated_candidate)\n",
    "token_set_ratio = fuzz.token_set_ratio(treated_name, treated_candidate)\n",
    "\n",
    "print(treated_name,'\\n', treated_candidate, '\\n', ratio, partial_ratio, token_sort_ratio, token_set_ratio)"
   ]
  },
  {
   "cell_type": "code",
   "execution_count": 37,
   "metadata": {},
   "outputs": [
    {
     "data": {
      "text/html": [
       "<div>\n",
       "<style scoped>\n",
       "    .dataframe tbody tr th:only-of-type {\n",
       "        vertical-align: middle;\n",
       "    }\n",
       "\n",
       "    .dataframe tbody tr th {\n",
       "        vertical-align: top;\n",
       "    }\n",
       "\n",
       "    .dataframe thead th {\n",
       "        text-align: right;\n",
       "    }\n",
       "</style>\n",
       "<table border=\"1\" class=\"dataframe\">\n",
       "  <thead>\n",
       "    <tr style=\"text-align: right;\">\n",
       "      <th></th>\n",
       "      <th>attendees</th>\n",
       "      <th>matched_organization</th>\n",
       "      <th>match_confidence</th>\n",
       "    </tr>\n",
       "  </thead>\n",
       "  <tbody>\n",
       "    <tr>\n",
       "      <th>1296</th>\n",
       "      <td>Kreisjugendring Pinneberg</td>\n",
       "      <td>None</td>\n",
       "      <td>0.0</td>\n",
       "    </tr>\n",
       "    <tr>\n",
       "      <th>160</th>\n",
       "      <td>Kansalaistapaaminen</td>\n",
       "      <td>None</td>\n",
       "      <td>0.0</td>\n",
       "    </tr>\n",
       "    <tr>\n",
       "      <th>3169</th>\n",
       "      <td>Assistant United States Trade Representative f...</td>\n",
       "      <td>None</td>\n",
       "      <td>0.0</td>\n",
       "    </tr>\n",
       "    <tr>\n",
       "      <th>2171</th>\n",
       "      <td>Hagainitiativet</td>\n",
       "      <td>None</td>\n",
       "      <td>0.0</td>\n",
       "    </tr>\n",
       "    <tr>\n",
       "      <th>2473</th>\n",
       "      <td>Business Oulu</td>\n",
       "      <td>None</td>\n",
       "      <td>0.0</td>\n",
       "    </tr>\n",
       "    <tr>\n",
       "      <th>369</th>\n",
       "      <td>Arbeiterkammer AK EUROPA</td>\n",
       "      <td>None</td>\n",
       "      <td>0.0</td>\n",
       "    </tr>\n",
       "    <tr>\n",
       "      <th>2090</th>\n",
       "      <td>Deputy mayor of Uhersky Brod</td>\n",
       "      <td>None</td>\n",
       "      <td>0.0</td>\n",
       "    </tr>\n",
       "    <tr>\n",
       "      <th>3971</th>\n",
       "      <td>Community Plant Variety Office</td>\n",
       "      <td>None</td>\n",
       "      <td>0.0</td>\n",
       "    </tr>\n",
       "    <tr>\n",
       "      <th>4589</th>\n",
       "      <td>Verband der Getreide-, Mühlen- und Stärkewirts...</td>\n",
       "      <td>None</td>\n",
       "      <td>0.0</td>\n",
       "    </tr>\n",
       "    <tr>\n",
       "      <th>1524</th>\n",
       "      <td>IRU</td>\n",
       "      <td>None</td>\n",
       "      <td>0.0</td>\n",
       "    </tr>\n",
       "  </tbody>\n",
       "</table>\n",
       "</div>"
      ],
      "text/plain": [
       "                                              attendees matched_organization  \\\n",
       "1296                          Kreisjugendring Pinneberg                 None   \n",
       "160                                 Kansalaistapaaminen                 None   \n",
       "3169  Assistant United States Trade Representative f...                 None   \n",
       "2171                                    Hagainitiativet                 None   \n",
       "2473                                      Business Oulu                 None   \n",
       "369                            Arbeiterkammer AK EUROPA                 None   \n",
       "2090                       Deputy mayor of Uhersky Brod                 None   \n",
       "3971                     Community Plant Variety Office                 None   \n",
       "4589  Verband der Getreide-, Mühlen- und Stärkewirts...                 None   \n",
       "1524                                                IRU                 None   \n",
       "\n",
       "      match_confidence  \n",
       "1296               0.0  \n",
       "160                0.0  \n",
       "3169               0.0  \n",
       "2171               0.0  \n",
       "2473               0.0  \n",
       "369                0.0  \n",
       "2090               0.0  \n",
       "3971               0.0  \n",
       "4589               0.0  \n",
       "1524               0.0  "
      ]
     },
     "execution_count": 37,
     "metadata": {},
     "output_type": "execute_result"
    }
   ],
   "source": [
    "matched_df[matched_df['match_confidence'] <= 85].sample(10)[['attendees', 'matched_organization', 'match_confidence']]"
   ]
  },
  {
   "cell_type": "code",
   "execution_count": 41,
   "metadata": {},
   "outputs": [
    {
     "name": "stdout",
     "output_type": "stream",
     "text": [
      "2166\n"
     ]
    }
   ],
   "source": [
    "print(len(high_confidence_matches))"
   ]
  }
 ],
 "metadata": {
  "kernelspec": {
   "display_name": "Python 3",
   "language": "python",
   "name": "python3"
  },
  "language_info": {
   "codemirror_mode": {
    "name": "ipython",
    "version": 3
   },
   "file_extension": ".py",
   "mimetype": "text/x-python",
   "name": "python",
   "nbconvert_exporter": "python",
   "pygments_lexer": "ipython3",
   "version": "3.12.9"
  }
 },
 "nbformat": 4,
 "nbformat_minor": 2
}
