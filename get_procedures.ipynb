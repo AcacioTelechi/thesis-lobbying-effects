{
 "cells": [
  {
   "cell_type": "code",
   "execution_count": 1,
   "metadata": {},
   "outputs": [],
   "source": [
    "import requests\n",
    "import urllib.parse\n",
    "from src.ParliamentDataHandler import ParliamentDataHandler\n",
    "from src.ep_talker import EuropeanParliamentTalker\n",
    "import pandas as pd"
   ]
  },
  {
   "cell_type": "code",
   "execution_count": null,
   "metadata": {},
   "outputs": [],
   "source": [
    "data_handler = ParliamentDataHandler()\n",
    "procedures = data_handler.get_procedures()"
   ]
  },
  {
   "cell_type": "code",
   "execution_count": 3,
   "metadata": {},
   "outputs": [
    {
     "name": "stdout",
     "output_type": "stream",
     "text": [
      "Total:  1\n"
     ]
    }
   ],
   "source": [
    "# Example of usage\n",
    "rdf_url = \"https://data.europarl.europa.eu/eli/dl/proc/2022-0147\"\n",
    "\n",
    "# Instantiate the class\n",
    "talker = EuropeanParliamentTalker()\n",
    "\n",
    "# Step 1: Download and load RDF data\n",
    "talker.download_rdf(rdf_url)\n",
    "\n",
    "# Step 2: Perform a SPARQL query to extract all person data\n",
    "query = \"\"\"\n",
    "PREFIX eli: <http://data.europa.eu/eli/ontology#>\n",
    "PREFIX eli-dl: <http://data.europa.eu/eli/eli-draft-legislation-ontology#>\n",
    "PREFIX ep-activities: <https://data.europarl.europa.eu/def/ep-activities/>\n",
    "PREFIX ep-procedure-types: <https://data.europarl.europa.eu/def/ep-procedure-types/>\n",
    "PREFIX ep-roles: <https://data.europarl.europa.eu/def/ep-roles/>\n",
    "PREFIX ept: <https://data.europarl.europa.eu/def/>\n",
    "PREFIX epvoc: <https://data.europarl.europa.eu/def/epvoc#>\n",
    "PREFIX op-aut: <http://publications.europa.eu/resource/authority/>\n",
    "PREFIX org: <http://www.w3.org/ns/org#>\n",
    "PREFIX rdf: <http://www.w3.org/1999/02/22-rdf-syntax-ns#>\n",
    "PREFIX rdfs: <http://www.w3.org/2000/01/rdf-schema#>\n",
    "PREFIX skos: <http://www.w3.org/2004/02/skos/core#>\n",
    "PREFIX xsd: <http://www.w3.org/2001/XMLSchema#>\n",
    "\n",
    "SELECT ?process ?processId ?processTitle ?currentStage ?procedureType ?procedureTypeLabel \n",
    "       ?initiator ?stakeholder ?activity ?activityId ?activityDate ?activityType \n",
    "       ?role ?document ?documentId ?documentTitle ?documentDate \n",
    "       ?relatedProcess ?relatedProcessTitle ?status\n",
    "WHERE {\n",
    "    ?process a eli-dl:Process ;\n",
    "             eli-dl:process_id ?processId ;\n",
    "             eli-dl:process_title ?processTitle ;\n",
    "             eli-dl:current_stage ?currentStage .\n",
    "\n",
    "    OPTIONAL { \n",
    "        ?process eli-dl:process_type ?procedureType .\n",
    "        ?procedureType rdfs:label ?procedureTypeLabel .\n",
    "    }\n",
    "\n",
    "    OPTIONAL { ?process eli-dl:initiator ?initiator . }\n",
    "    OPTIONAL { ?process eli-dl:stakeholder ?stakeholder . }\n",
    "\n",
    "    OPTIONAL {\n",
    "        ?activity a eli-dl:Activity ;\n",
    "                  eli-dl:activity_id ?activityId ;\n",
    "                  eli-dl:activity_date ?activityDate ;\n",
    "                  eli-dl:activity_type ?activityType ;\n",
    "                  eli-dl:belongs_to_process ?process .\n",
    "    }\n",
    "\n",
    "    OPTIONAL {\n",
    "        ?role a ep-roles:Role ;\n",
    "              ep-roles:has_role ?role ;\n",
    "              ep-roles:related_to_process ?process .\n",
    "    }\n",
    "\n",
    "    OPTIONAL {\n",
    "        ?document a eli:LegalResource ;\n",
    "                  eli:identifier ?documentId ;\n",
    "                  dcterms:title ?documentTitle ;\n",
    "                  dcterms:date ?documentDate ;\n",
    "                  eli:related_to_process ?process .\n",
    "    }\n",
    "\n",
    "    OPTIONAL {\n",
    "        ?relatedProcess eli-dl:related_process ?process ;\n",
    "                        eli-dl:process_title ?relatedProcessTitle ;\n",
    "                        eli-dl:status ?status .\n",
    "    }\n",
    "    FILTER(LANG(?processTitle) = \"en\")\n",
    "}\n",
    "\"\"\"\n",
    "results = talker.query(query)\n",
    "\n",
    "results_list = []\n",
    "for row in results:\n",
    "    row_dict = {}\n",
    "    for var in row.labels:\n",
    "        row_dict[var] = str(row[var])  # Convert RDF nodes to strings\n",
    "    results_list.append(row_dict)\n",
    "print(\"Total: \", len(results_list))"
   ]
  },
  {
   "cell_type": "code",
   "execution_count": 4,
   "metadata": {},
   "outputs": [
    {
     "data": {
      "text/plain": [
       "[{'process': 'https://data.europarl.europa.eu/eli/dl/proc/2022-0147',\n",
       "  'processId': '2022-0147',\n",
       "  'processTitle': 'Amending Directive 2011/83/EU concerning financial services contracts concluded at a distance and repealing Directive 2002/65/EC',\n",
       "  'currentStage': 'http://publications.europa.eu/resource/authority/procedure-phase/RDG1',\n",
       "  'procedureType': 'None',\n",
       "  'procedureTypeLabel': 'None',\n",
       "  'initiator': 'None',\n",
       "  'stakeholder': 'None',\n",
       "  'activity': 'None',\n",
       "  'activityId': 'None',\n",
       "  'activityDate': 'None',\n",
       "  'activityType': 'None',\n",
       "  'role': 'None',\n",
       "  'document': 'None',\n",
       "  'documentId': 'None',\n",
       "  'documentTitle': 'None',\n",
       "  'documentDate': 'None',\n",
       "  'relatedProcess': 'None',\n",
       "  'relatedProcessTitle': 'None',\n",
       "  'status': 'None'}]"
      ]
     },
     "execution_count": 4,
     "metadata": {},
     "output_type": "execute_result"
    }
   ],
   "source": [
    "results_list"
   ]
  },
  {
   "cell_type": "code",
   "execution_count": null,
   "metadata": {},
   "outputs": [],
   "source": []
  },
  {
   "cell_type": "code",
   "execution_count": 4,
   "metadata": {},
   "outputs": [
    {
     "name": "stderr",
     "output_type": "stream",
     "text": [
      "0it [00:00, ?it/s]\n"
     ]
    }
   ],
   "source": [
    "from concurrent.futures import ThreadPoolExecutor, as_completed\n",
    "from tqdm import tqdm\n",
    "\n",
    "def fetch_procedure_details(procedure):\n",
    "    id_ = procedure[\"id\"]\n",
    "    return data_handler.get_procedure_details(id_)\n",
    "\n",
    "# Use ThreadPoolExecutor to run the tasks in parallel\n",
    "with ThreadPoolExecutor(max_workers=10) as executor:\n",
    "    futures = [executor.submit(fetch_procedure_details, procedure) for procedure in procedures[:100]]\n",
    "    \n",
    "    # Use tqdm to show progress\n",
    "    for future in tqdm(as_completed(futures), total=len(futures)):\n",
    "        details = future.result()\n",
    "        # Process the details as needed"
   ]
  },
  {
   "cell_type": "code",
   "execution_count": 3,
   "metadata": {},
   "outputs": [
    {
     "data": {
      "text/plain": [
       "16997"
      ]
     },
     "execution_count": 3,
     "metadata": {},
     "output_type": "execute_result"
    }
   ],
   "source": [
    "len(procedures)"
   ]
  }
 ],
 "metadata": {
  "kernelspec": {
   "display_name": "Python 3",
   "language": "python",
   "name": "python3"
  },
  "language_info": {
   "codemirror_mode": {
    "name": "ipython",
    "version": 3
   },
   "file_extension": ".py",
   "mimetype": "text/x-python",
   "name": "python",
   "nbconvert_exporter": "python",
   "pygments_lexer": "ipython3",
   "version": "3.12.9"
  }
 },
 "nbformat": 4,
 "nbformat_minor": 2
}
