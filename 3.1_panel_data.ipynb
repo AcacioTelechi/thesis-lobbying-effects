{
 "cells": [
  {
   "cell_type": "code",
   "execution_count": 2,
   "metadata": {},
   "outputs": [],
   "source": [
    "import pandas as pd\n",
    "import matplotlib.pyplot as plt"
   ]
  },
  {
   "cell_type": "code",
   "execution_count": 14,
   "metadata": {},
   "outputs": [],
   "source": [
    "df_questions_ymd = pd.read_csv('./data/silver/df_questions_by_period_YYYY-MM-DD.csv', index_col=0)\n",
    "df_meetings_ymd = pd.read_csv('./data/silver/df_meetings_by_period_YYYY-MM-DD.csv', index_col=0)\n"
   ]
  },
  {
   "cell_type": "code",
   "execution_count": 20,
   "metadata": {},
   "outputs": [],
   "source": [
    "all_periods = sorted(set(df_questions_ymd.columns.tolist() + df_meetings_ymd.columns.tolist()))\n",
    "\n",
    "# Fill missing periods with 0\n",
    "df_questions = df_questions_ymd.reindex(all_periods, axis=1, fill_value=0)\n",
    "df_meetings = df_meetings_ymd.reindex(all_periods, axis=1, fill_value=0)"
   ]
  },
  {
   "cell_type": "code",
   "execution_count": 24,
   "metadata": {},
   "outputs": [],
   "source": [
    "# I need to transform the columns into rows\n",
    "df_questions_melted = df_questions.melt(ignore_index=False, var_name='date', value_name='questions')\n",
    "df_meetings_melted = df_meetings.melt(ignore_index=False, var_name='date', value_name='meetings')\n",
    "\n",
    "# Reset index to handle duplicate indices\n",
    "df_questions_melted = df_questions_melted.reset_index()\n",
    "df_meetings_melted = df_meetings_melted.reset_index()\n",
    "\n",
    "# now join the two dataframes\n",
    "df_combined = pd.merge(df_questions_melted, df_meetings_melted, \n",
    "                      on=['member_id', 'date'])\n"
   ]
  },
  {
   "cell_type": "code",
   "execution_count": null,
   "metadata": {},
   "outputs": [],
   "source": [
    "# Given that my dataframe is a panel data where member_id represents a person\n",
    "# I want to run a timeseries analysis of the questions and meetings\n",
    "\n",
    "\n",
    "\n",
    "\n"
   ]
  },
  {
   "cell_type": "code",
   "execution_count": 30,
   "metadata": {},
   "outputs": [
    {
     "data": {
      "text/html": [
       "<div>\n",
       "<style scoped>\n",
       "    .dataframe tbody tr th:only-of-type {\n",
       "        vertical-align: middle;\n",
       "    }\n",
       "\n",
       "    .dataframe tbody tr th {\n",
       "        vertical-align: top;\n",
       "    }\n",
       "\n",
       "    .dataframe thead th {\n",
       "        text-align: right;\n",
       "    }\n",
       "</style>\n",
       "<table border=\"1\" class=\"dataframe\">\n",
       "  <thead>\n",
       "    <tr style=\"text-align: right;\">\n",
       "      <th></th>\n",
       "      <th>member_id</th>\n",
       "      <th>date</th>\n",
       "      <th>questions</th>\n",
       "      <th>meetings</th>\n",
       "    </tr>\n",
       "  </thead>\n",
       "  <tbody>\n",
       "    <tr>\n",
       "      <th>0</th>\n",
       "      <td>840.0</td>\n",
       "      <td>2008-06-11</td>\n",
       "      <td>0</td>\n",
       "      <td>0</td>\n",
       "    </tr>\n",
       "    <tr>\n",
       "      <th>1</th>\n",
       "      <td>840.0</td>\n",
       "      <td>2009-01-29</td>\n",
       "      <td>0</td>\n",
       "      <td>0</td>\n",
       "    </tr>\n",
       "    <tr>\n",
       "      <th>2</th>\n",
       "      <td>840.0</td>\n",
       "      <td>2009-02-13</td>\n",
       "      <td>0</td>\n",
       "      <td>0</td>\n",
       "    </tr>\n",
       "    <tr>\n",
       "      <th>3</th>\n",
       "      <td>840.0</td>\n",
       "      <td>2009-02-18</td>\n",
       "      <td>0</td>\n",
       "      <td>0</td>\n",
       "    </tr>\n",
       "    <tr>\n",
       "      <th>4</th>\n",
       "      <td>840.0</td>\n",
       "      <td>2009-02-26</td>\n",
       "      <td>0</td>\n",
       "      <td>0</td>\n",
       "    </tr>\n",
       "    <tr>\n",
       "      <th>...</th>\n",
       "      <td>...</td>\n",
       "      <td>...</td>\n",
       "      <td>...</td>\n",
       "      <td>...</td>\n",
       "    </tr>\n",
       "    <tr>\n",
       "      <th>2381457</th>\n",
       "      <td>260035.0</td>\n",
       "      <td>2025-02-24</td>\n",
       "      <td>0</td>\n",
       "      <td>0</td>\n",
       "    </tr>\n",
       "    <tr>\n",
       "      <th>2381458</th>\n",
       "      <td>260035.0</td>\n",
       "      <td>2025-02-25</td>\n",
       "      <td>0</td>\n",
       "      <td>0</td>\n",
       "    </tr>\n",
       "    <tr>\n",
       "      <th>2381459</th>\n",
       "      <td>260035.0</td>\n",
       "      <td>2025-02-26</td>\n",
       "      <td>0</td>\n",
       "      <td>0</td>\n",
       "    </tr>\n",
       "    <tr>\n",
       "      <th>2381460</th>\n",
       "      <td>260035.0</td>\n",
       "      <td>2025-02-27</td>\n",
       "      <td>0</td>\n",
       "      <td>0</td>\n",
       "    </tr>\n",
       "    <tr>\n",
       "      <th>2381461</th>\n",
       "      <td>260035.0</td>\n",
       "      <td>2025-02-28</td>\n",
       "      <td>0</td>\n",
       "      <td>0</td>\n",
       "    </tr>\n",
       "  </tbody>\n",
       "</table>\n",
       "<p>2381462 rows × 4 columns</p>\n",
       "</div>"
      ],
      "text/plain": [
       "         member_id       date  questions  meetings\n",
       "0            840.0 2008-06-11          0         0\n",
       "1            840.0 2009-01-29          0         0\n",
       "2            840.0 2009-02-13          0         0\n",
       "3            840.0 2009-02-18          0         0\n",
       "4            840.0 2009-02-26          0         0\n",
       "...            ...        ...        ...       ...\n",
       "2381457   260035.0 2025-02-24          0         0\n",
       "2381458   260035.0 2025-02-25          0         0\n",
       "2381459   260035.0 2025-02-26          0         0\n",
       "2381460   260035.0 2025-02-27          0         0\n",
       "2381461   260035.0 2025-02-28          0         0\n",
       "\n",
       "[2381462 rows x 4 columns]"
      ]
     },
     "execution_count": 30,
     "metadata": {},
     "output_type": "execute_result"
    }
   ],
   "source": [
    "df_combined"
   ]
  }
 ],
 "metadata": {
  "kernelspec": {
   "display_name": "Python 3",
   "language": "python",
   "name": "python3"
  },
  "language_info": {
   "codemirror_mode": {
    "name": "ipython",
    "version": 3
   },
   "file_extension": ".py",
   "mimetype": "text/x-python",
   "name": "python",
   "nbconvert_exporter": "python",
   "pygments_lexer": "ipython3",
   "version": "3.12.9"
  }
 },
 "nbformat": 4,
 "nbformat_minor": 2
}
