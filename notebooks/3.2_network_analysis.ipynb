{
 "cells": [
  {
   "cell_type": "code",
   "execution_count": 1,
   "metadata": {},
   "outputs": [],
   "source": [
    "import pandas as pd"
   ]
  },
  {
   "cell_type": "code",
   "execution_count": 2,
   "metadata": {},
   "outputs": [],
   "source": [
    "df_meps = pd.read_csv(\"./data/mep_detail.csv\")\n",
    "df_tr = pd.read_csv(\"./data/transparency_register.csv\")\n",
    "df_combined = pd.read_csv(\"./data/silver/df_matched.csv\")"
   ]
  },
  {
   "cell_type": "code",
   "execution_count": 3,
   "metadata": {},
   "outputs": [],
   "source": [
    "df_edges = df_combined[df_combined[\"member_id\"].notna()][\n",
    "    [\"member_id\", \"Identification code\", \"meeting_date\"]\n",
    "]\n",
    "df_edges[\"member_id\"] = df_edges[\"member_id\"].astype(int)"
   ]
  },
  {
   "cell_type": "code",
   "execution_count": 4,
   "metadata": {},
   "outputs": [],
   "source": [
    "df_edges.rename(\n",
    "    columns={\"member_id\": \"Target\", \"Identification code\": \"Source\"}, inplace=True\n",
    ")\n"
   ]
  },
  {
   "cell_type": "code",
   "execution_count": 5,
   "metadata": {},
   "outputs": [
    {
     "data": {
      "text/html": [
       "<div>\n",
       "<style scoped>\n",
       "    .dataframe tbody tr th:only-of-type {\n",
       "        vertical-align: middle;\n",
       "    }\n",
       "\n",
       "    .dataframe tbody tr th {\n",
       "        vertical-align: top;\n",
       "    }\n",
       "\n",
       "    .dataframe thead th {\n",
       "        text-align: right;\n",
       "    }\n",
       "</style>\n",
       "<table border=\"1\" class=\"dataframe\">\n",
       "  <thead>\n",
       "    <tr style=\"text-align: right;\">\n",
       "      <th></th>\n",
       "      <th>id</th>\n",
       "      <th>Label</th>\n",
       "      <th>type</th>\n",
       "    </tr>\n",
       "  </thead>\n",
       "  <tbody>\n",
       "    <tr>\n",
       "      <th>0</th>\n",
       "      <td>233862</td>\n",
       "      <td>Matjaž NEMEC</td>\n",
       "      <td>Mep</td>\n",
       "    </tr>\n",
       "    <tr>\n",
       "      <th>1</th>\n",
       "      <td>257102</td>\n",
       "      <td>Giorgio GORI</td>\n",
       "      <td>Mep</td>\n",
       "    </tr>\n",
       "    <tr>\n",
       "      <th>2</th>\n",
       "      <td>96834</td>\n",
       "      <td>Iliana IVANOVA</td>\n",
       "      <td>Mep</td>\n",
       "    </tr>\n",
       "    <tr>\n",
       "      <th>3</th>\n",
       "      <td>257092</td>\n",
       "      <td>Hanna GEDIN</td>\n",
       "      <td>Mep</td>\n",
       "    </tr>\n",
       "    <tr>\n",
       "      <th>4</th>\n",
       "      <td>622</td>\n",
       "      <td>Arthur GAILLY</td>\n",
       "      <td>Mep</td>\n",
       "    </tr>\n",
       "  </tbody>\n",
       "</table>\n",
       "</div>"
      ],
      "text/plain": [
       "       id           Label type\n",
       "0  233862    Matjaž NEMEC  Mep\n",
       "1  257102    Giorgio GORI  Mep\n",
       "2   96834  Iliana IVANOVA  Mep\n",
       "3  257092     Hanna GEDIN  Mep\n",
       "4     622   Arthur GAILLY  Mep"
      ]
     },
     "execution_count": 5,
     "metadata": {},
     "output_type": "execute_result"
    }
   ],
   "source": [
    "df_nodes = df_meps[[\"identifier\", \"label\"]].copy()\n",
    "df_nodes.rename(columns={\"identifier\": \"id\", \"label\": \"Label\"}, inplace=True)\n",
    "df_nodes[\"type\"] = \"Mep\"\n",
    "\n",
    "\n",
    "df_nodes = pd.concat(\n",
    "    [\n",
    "        df_nodes,\n",
    "        df_tr[[\"Identification code\", \"Name\", \"Category of registration\"]]\n",
    "        .copy()\n",
    "        .rename(\n",
    "            columns={\n",
    "                \"Identification code\": \"id\",\n",
    "                \"Name\": \"Label\",\n",
    "                \"Category of registration\": \"type\",\n",
    "            }\n",
    "        ),\n",
    "    ]\n",
    ")\n",
    "\n",
    "\n",
    "df_nodes.head()"
   ]
  },
  {
   "cell_type": "code",
   "execution_count": 7,
   "metadata": {},
   "outputs": [
    {
     "name": "stdout",
     "output_type": "stream",
     "text": [
      "16564 40387\n"
     ]
    }
   ],
   "source": [
    "print(len(df_nodes), len(df_edges))\n"
   ]
  },
  {
   "cell_type": "code",
   "execution_count": 19,
   "metadata": {},
   "outputs": [],
   "source": [
    "df_edges = df_edges.groupby(['Source', 'Target']).count().reset_index().rename(columns={'meeting_date': 'weight'}).sort_values('weight', ascending=False)\n"
   ]
  },
  {
   "cell_type": "code",
   "execution_count": 20,
   "metadata": {},
   "outputs": [],
   "source": [
    "df_edges = df_edges[df_edges['Source'] != '655637920614-19']"
   ]
  },
  {
   "cell_type": "code",
   "execution_count": 21,
   "metadata": {},
   "outputs": [],
   "source": [
    "df_nodes.to_csv(\"./data/silver/df_nodes.csv\", index=False)\n",
    "df_edges.to_csv(\"./data/silver/df_edges.csv\", index=False)\n",
    "\n"
   ]
  }
 ],
 "metadata": {
  "kernelspec": {
   "display_name": "Python 3",
   "language": "python",
   "name": "python3"
  },
  "language_info": {
   "codemirror_mode": {
    "name": "ipython",
    "version": 3
   },
   "file_extension": ".py",
   "mimetype": "text/x-python",
   "name": "python",
   "nbconvert_exporter": "python",
   "pygments_lexer": "ipython3",
   "version": "3.12.10"
  }
 },
 "nbformat": 4,
 "nbformat_minor": 2
}
