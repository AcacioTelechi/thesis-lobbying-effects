{
 "cells": [
  {
   "cell_type": "code",
   "execution_count": 1,
   "metadata": {},
   "outputs": [],
   "source": [
    "import requests\n",
    "import urllib.parse\n",
    "from src.ParliamentDataHandler import ParliamentDataHandler\n",
    "import pandas as pd\n",
    "import json"
   ]
  },
  {
   "cell_type": "code",
   "execution_count": 2,
   "metadata": {},
   "outputs": [],
   "source": [
    "handler = ParliamentDataHandler()"
   ]
  },
  {
   "cell_type": "markdown",
   "metadata": {},
   "source": [
    "# MEPs"
   ]
  },
  {
   "cell_type": "code",
   "execution_count": null,
   "metadata": {},
   "outputs": [],
   "source": [
    "api_endpoint = \"https://api.europarl.europa.eu/documents/mep/{mep_id}\"\n",
    "\n",
    "# Replace with the MEP's identifier\n",
    "mep_id = \"person/1\"\n",
    "\n",
    "# Make the API request\n",
    "response = requests.get(api_endpoint.format(mep_id=mep_id))\n"
   ]
  },
  {
   "cell_type": "markdown",
   "metadata": {},
   "source": [
    "# Meetings"
   ]
  },
  {
   "cell_type": "code",
   "execution_count": 4,
   "metadata": {},
   "outputs": [
    {
     "name": "stderr",
     "output_type": "stream",
     "text": [
      "10it [00:04,  2.38it/s]\n"
     ]
    }
   ],
   "source": [
    "# Initialize start and end dates\n",
    "init_date = '01/01/2024'\n",
    "end_date = '14/10/2024'\n",
    "\n",
    "# Execute the batch scraping with concurrency\n",
    "meetings = handler.scrape_meetings_in_parallel(init_date, end_date)\n",
    "\n",
    "\n",
    "df_new = pd.DataFrame(meetings)\n",
    "df_meetings = pd.read_csv('./data/meetings.csv')\n",
    "pd.concat([df_meetings, df_new]).drop_duplicates().to_csv('./data/meetings.csv', index=False)"
   ]
  },
  {
   "cell_type": "markdown",
   "metadata": {},
   "source": [
    "# Questions"
   ]
  },
  {
   "cell_type": "code",
   "execution_count": 3,
   "metadata": {},
   "outputs": [],
   "source": [
    "# questions = handler.get_questions()\n",
    "# print(len(questions))\n",
    "# pd.DataFrame(questions).to_csv('./data/questions.csv', index=False)\n",
    "questions = pd.read_csv('./data/questions.csv').to_dict(orient='records')"
   ]
  },
  {
   "cell_type": "code",
   "execution_count": null,
   "metadata": {},
   "outputs": [
    {
     "name": "stderr",
     "output_type": "stream",
     "text": [
      " 90%|████████▉ | 6555/7322 [10:27:57<1:41:07,  7.91s/it] "
     ]
    },
    {
     "name": "stdout",
     "output_type": "stream",
     "text": [
      "An error occurred: URL - https://data.europarl.europa.eu/api/v2/parliamentary-questions/P-8-2014-006388?format=application%2Fld%2Bjson&language=en ERROR: Expecting value: line 1 column 1 (char 0)\n",
      "An error occurred: URL - https://data.europarl.europa.eu/api/v2/parliamentary-questions/P-8-2015-000938?format=application%2Fld%2Bjson&language=en ERROR: Expecting value: line 1 column 1 (char 0)\n",
      "An error occurred: URL - https://data.europarl.europa.eu/api/v2/parliamentary-questions/P-8-2015-001909?format=application%2Fld%2Bjson&language=en ERROR: Expecting value: line 1 column 1 (char 0)\n",
      "An error occurred: URL - https://data.europarl.europa.eu/api/v2/parliamentary-questions/P-8-2014-010514?format=application%2Fld%2Bjson&language=en ERROR: Expecting value: line 1 column 1 (char 0)\n",
      "An error occurred: URL - https://data.europarl.europa.eu/api/v2/parliamentary-questions/P-8-2015-004492?format=application%2Fld%2Bjson&language=en ERROR: Expecting value: line 1 column 1 (char 0)\n",
      "An error occurred: URL - https://data.europarl.europa.eu/api/v2/parliamentary-questions/P-8-2014-008014?format=application%2Fld%2Bjson&language=en ERROR: Expecting value: line 1 column 1 (char 0)\n",
      "An error occurred: URL - https://data.europarl.europa.eu/api/v2/parliamentary-questions/P-8-2014-008212?format=application%2Fld%2Bjson&language=en ERROR: Expecting value: line 1 column 1 (char 0)\n"
     ]
    },
    {
     "name": "stderr",
     "output_type": "stream",
     "text": [
      " 92%|█████████▏| 6738/7322 [10:45:15<34:30,  3.55s/it]  "
     ]
    },
    {
     "name": "stdout",
     "output_type": "stream",
     "text": [
      "An error occurred: URL - https://data.europarl.europa.eu/api/v2/parliamentary-questions/P-8-2016-003349?format=application%2Fld%2Bjson&language=en ERROR: Expecting value: line 1 column 1 (char 0)\n",
      "An error occurred: URL - https://data.europarl.europa.eu/api/v2/parliamentary-questions/P-8-2016-002003?format=application%2Fld%2Bjson&language=en ERROR: Expecting value: line 1 column 1 (char 0)\n"
     ]
    },
    {
     "name": "stderr",
     "output_type": "stream",
     "text": [
      " 92%|█████████▏| 6739/7322 [10:46:07<2:55:02, 18.01s/it]"
     ]
    },
    {
     "name": "stdout",
     "output_type": "stream",
     "text": [
      "An error occurred: URL - https://data.europarl.europa.eu/api/v2/parliamentary-questions/P-8-2016-002202?format=application%2Fld%2Bjson&language=en ERROR: Expecting value: line 1 column 1 (char 0)\n",
      "An error occurred: URL - https://data.europarl.europa.eu/api/v2/parliamentary-questions/P-8-2016-002179?format=application%2Fld%2Bjson&language=en ERROR: Expecting value: line 1 column 1 (char 0)\n"
     ]
    },
    {
     "name": "stderr",
     "output_type": "stream",
     "text": [
      " 92%|█████████▏| 6740/7322 [10:46:12<2:16:09, 14.04s/it]"
     ]
    },
    {
     "name": "stdout",
     "output_type": "stream",
     "text": [
      "An error occurred: URL - https://data.europarl.europa.eu/api/v2/parliamentary-questions/P-8-2016-005566?format=application%2Fld%2Bjson&language=en ERROR: Expecting value: line 1 column 1 (char 0)\n",
      "An error occurred: URL - https://data.europarl.europa.eu/api/v2/parliamentary-questions/P-8-2016-003971?format=application%2Fld%2Bjson&language=en ERROR: Expecting value: line 1 column 1 (char 0)\n"
     ]
    },
    {
     "name": "stderr",
     "output_type": "stream",
     "text": [
      "100%|██████████| 7322/7322 [11:43:40<00:00,  5.77s/it]  \n"
     ]
    }
   ],
   "source": [
    "from tqdm import tqdm\n",
    "import concurrent.futures\n",
    "import os\n",
    "\n",
    "from src.ParliamentDataHandler import RateLimiter\n",
    "\n",
    "# time.sleep(300)\n",
    "\n",
    "rate_limiter = RateLimiter(max_requests=500, time_window=300)  # 500 requests per 5 minutes\n",
    "\n",
    "def fetch_question_details(identifiers):\n",
    "    results = []\n",
    "    for identifier in identifiers:\n",
    "        if identifier:\n",
    "            # check if the json file exists\n",
    "            if os.path.exists(f'./data/questions/{identifier}.json'):\n",
    "                with open(f'./data/questions/{identifier}.json', 'r') as f:\n",
    "                    results.append(json.load(f))\n",
    "            else:\n",
    "                rate_limiter.wait_if_needed()\n",
    "                new_data = handler.get_questions_details(identifier)\n",
    "                results.append(new_data)\n",
    "                with open(f'./data/questions/{identifier}.json', 'w') as f:\n",
    "                    json.dump(new_data, f)\n",
    "    return results\n",
    "\n",
    "# Split questions into batches of 10\n",
    "batch_size = 10\n",
    "question_batches = []\n",
    "current_batch = []\n",
    "\n",
    "for q in questions:\n",
    "    identifier = q.get(\"identifier\")\n",
    "    if len(current_batch) < batch_size:\n",
    "        current_batch.append(identifier)\n",
    "    else:\n",
    "        question_batches.append(current_batch)\n",
    "        current_batch = [identifier]\n",
    "if current_batch:  # Fixed the indentation of this check\n",
    "    question_batches.append(current_batch)\n",
    "\n",
    "# Limit concurrent threads to avoid exceeding rate limit\n",
    "max_workers = min(10, 500 // batch_size)  # Ensure we don't spawn too many threads\n",
    "\n",
    "final = []\n",
    "with concurrent.futures.ThreadPoolExecutor(max_workers=max_workers) as executor:\n",
    "    futures = [executor.submit(fetch_question_details, batch) for batch in question_batches]\n",
    "    for future in tqdm(concurrent.futures.as_completed(futures), total=len(question_batches)):\n",
    "        final.extend(future.result())\n"
   ]
  },
  {
   "cell_type": "code",
   "execution_count": 32,
   "metadata": {},
   "outputs": [],
   "source": [
    "df = pd.DataFrame([f[0] for f in final if len(f) > 0])\n",
    "df.to_csv('./data/questions_details.csv', index=False)"
   ]
  }
 ],
 "metadata": {
  "kernelspec": {
   "display_name": "Python 3",
   "language": "python",
   "name": "python3"
  },
  "language_info": {
   "codemirror_mode": {
    "name": "ipython",
    "version": 3
   },
   "file_extension": ".py",
   "mimetype": "text/x-python",
   "name": "python",
   "nbconvert_exporter": "python",
   "pygments_lexer": "ipython3",
   "version": "3.12.10"
  }
 },
 "nbformat": 4,
 "nbformat_minor": 2
}
