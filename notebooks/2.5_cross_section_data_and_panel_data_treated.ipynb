{
 "cells": [
  {
   "cell_type": "code",
   "execution_count": 1,
   "metadata": {},
   "outputs": [],
   "source": [
    "import pandas as pd\n",
    "\n",
    "import matplotlib.pyplot as plt\n",
    "import seaborn as sns\n",
    "\n",
    "import numpy as np"
   ]
  },
  {
   "cell_type": "code",
   "execution_count": 2,
   "metadata": {},
   "outputs": [],
   "source": [
    "df = pd.read_csv(\"./data/gold/panel_data_3.csv\")\n",
    "df[\"date\"] = pd.to_datetime(df[\"date\"])"
   ]
  },
  {
   "cell_type": "code",
   "execution_count": 3,
   "metadata": {},
   "outputs": [],
   "source": [
    "df_questions_and_meetings = (\n",
    "    df[[\"mep_id\", \"questions\", \"meetings\"]].groupby(\"mep_id\").sum()\n",
    ")\n",
    "df_mep_data = df[[\"mep_id\", *df.columns[4:]]].groupby(\"mep_id\").max()\n",
    "df_cros = df_questions_and_meetings.join(df_mep_data)\n",
    "\n",
    "df_cros[\"questions_log\"] = np.log(df_cros[\"questions\"] + 1)"
   ]
  },
  {
   "cell_type": "markdown",
   "metadata": {},
   "source": [
    "# Aggregate memembership vars"
   ]
  },
  {
   "cell_type": "code",
   "execution_count": 4,
   "metadata": {},
   "outputs": [],
   "source": [
    "from collections import defaultdict\n",
    "\n",
    "\n",
    "unique_memberships = []\n",
    "for m in [\n",
    "    c.split(\" - \")[0].strip() for c in df_cros.columns if len(c.split(\" - \")) > 1\n",
    "]:\n",
    "    if m not in unique_memberships:\n",
    "        unique_memberships.append(m)\n",
    "\n",
    "\n",
    "memebership_summary = []\n",
    "for index, row in df_cros.iterrows():\n",
    "    res = defaultdict(int)\n",
    "    for m in unique_memberships:\n",
    "        m_values = []\n",
    "        for c, v in row.items():\n",
    "            if m in c:\n",
    "                m_values.append(v)\n",
    "        res[m] = max(m_values)\n",
    "    res[\"mep_id\"] = index\n",
    "    memebership_summary.append(res)\n",
    "\n",
    "df_m_summary = pd.DataFrame(memebership_summary).set_index(\"mep_id\")\n",
    "\n",
    "\n",
    "new_columns = []\n",
    "for c in df_cros.columns:\n",
    "    teste = [m for m in unique_memberships if m in c]\n",
    "    if len(teste) > 0:\n",
    "        continue\n",
    "    new_columns.append(c)\n",
    "\n",
    "\n",
    "df_cros_summ = df_cros[new_columns].join(df_m_summary)"
   ]
  },
  {
   "cell_type": "code",
   "execution_count": 5,
   "metadata": {},
   "outputs": [],
   "source": [
    "del df_cros_summ[\"EU_INSTITUTION\"]\n",
    "del df_cros_summ[\"EU_POLITICAL_GROUP\"]\n",
    "del df_cros_summ[\"NATIONAL_CHAMBER\"]"
   ]
  },
  {
   "cell_type": "code",
   "execution_count": 6,
   "metadata": {},
   "outputs": [],
   "source": [
    "df_cros_summ.to_csv(\"./data/gold/cross_section.csv\")"
   ]
  },
  {
   "cell_type": "markdown",
   "metadata": {},
   "source": [
    "# Treatment data"
   ]
  },
  {
   "cell_type": "code",
   "execution_count": 7,
   "metadata": {},
   "outputs": [],
   "source": [
    "df_treatment = df[[\"mep_id\", \"meetings\"]].groupby(\"mep_id\").sum()\n",
    "df_treatment[\"treatment\"] = df_treatment[\"meetings\"] > 0\n",
    "\n",
    "df_treatment_period = df[[\"mep_id\", \"date\", \"meetings\"]].sort_values([\"mep_id\", \"date\"])\n",
    "\n",
    "df_treatment_period[\"is_treatment\"] = (df_treatment_period[\"meetings\"] > 0).astype(int)\n",
    "\n",
    "df_initial_treatment_dates = (\n",
    "    df_treatment_period[df_treatment_period[\"is_treatment\"] == True]\n",
    "    .groupby([\"mep_id\"])\n",
    "    .min()\n",
    ")\n",
    "\n",
    "del df_initial_treatment_dates[\"meetings\"]\n",
    "del df_initial_treatment_dates[\"is_treatment\"]\n",
    "\n",
    "df_treatment = df_treatment.join(df_initial_treatment_dates).rename(\n",
    "    {\"date\": \"initial_treatment_date\", \"meetings\": \"total_meetings\"}, axis=1\n",
    ")\n",
    "\n",
    "df_treatment[\"treatment\"] = df_treatment[\"treatment\"].astype(int)"
   ]
  },
  {
   "cell_type": "markdown",
   "metadata": {},
   "source": [
    "# Aggregate membership columns in panel data"
   ]
  },
  {
   "cell_type": "code",
   "execution_count": 8,
   "metadata": {},
   "outputs": [],
   "source": [
    "df_memeberships = pd.DataFrame()\n",
    "for m in unique_memberships:\n",
    "    df_memeberships[m] = df.loc[:, [c for c in df.columns if m in c]].max(axis=1)"
   ]
  },
  {
   "cell_type": "markdown",
   "metadata": {},
   "source": [
    "# Add treatment data"
   ]
  },
  {
   "cell_type": "code",
   "execution_count": 9,
   "metadata": {},
   "outputs": [],
   "source": [
    "df_final = df.merge(df_treatment, left_on=\"mep_id\", right_index=True)"
   ]
  },
  {
   "cell_type": "code",
   "execution_count": 10,
   "metadata": {},
   "outputs": [],
   "source": [
    "df_final[\"treatment_started\"] = df_final[\"date\"] >= df_final[\"initial_treatment_date\"]\n",
    "df_final[\"received_treatment_and_started\"] = (\n",
    "    df_final[\"treatment\"] * df_final[\"treatment_started\"]\n",
    ")\n",
    "\n",
    "df_final[\"received_treatment_and_started\"] = df_final[\n",
    "    \"received_treatment_and_started\"\n",
    "].astype(int)"
   ]
  },
  {
   "cell_type": "code",
   "execution_count": 11,
   "metadata": {},
   "outputs": [],
   "source": [
    "df_final['quetions_log'] = np.log(df_final['questions'] + 1)"
   ]
  },
  {
   "cell_type": "markdown",
   "metadata": {},
   "source": [
    "## add memeberships"
   ]
  },
  {
   "cell_type": "code",
   "execution_count": 12,
   "metadata": {},
   "outputs": [],
   "source": [
    "df_final = df_final.join(df_memeberships)"
   ]
  },
  {
   "cell_type": "code",
   "execution_count": 13,
   "metadata": {},
   "outputs": [],
   "source": [
    "important_columns = [\n",
    "    'mep_id',\n",
    "    'date',\n",
    "    'questions',\n",
    "    'quetions_log',\n",
    "    'meetings',\n",
    "    'total_meetings',\n",
    "    'treatment',\n",
    "    'initial_treatment_date',\n",
    "    'treatment_started',\n",
    "    'received_treatment_and_started'\n",
    "]\n",
    "country_columns = [c for c in df_final.columns if 'country' in c]\n",
    "p_groups_columns = [c for c in df_final.columns if 'political_group' in c]\n",
    "membership_columns = unique_memberships\n",
    "\n",
    "columns_to_keep = important_columns + country_columns + p_groups_columns + membership_columns\n"
   ]
  },
  {
   "cell_type": "code",
   "execution_count": 14,
   "metadata": {},
   "outputs": [],
   "source": [
    "df_final = df_final[columns_to_keep]\n"
   ]
  },
  {
   "cell_type": "code",
   "execution_count": 15,
   "metadata": {},
   "outputs": [],
   "source": [
    "# df_final.to_csv(\"./data/gold/panel_data_treated.csv\", index=False)"
   ]
  },
  {
   "cell_type": "markdown",
   "metadata": {},
   "source": [
    "## Aggregations"
   ]
  },
  {
   "cell_type": "code",
   "execution_count": 16,
   "metadata": {},
   "outputs": [],
   "source": [
    "aggregation = {\n",
    "    \"questions\": \"sum\",\n",
    "    \"quetions_log\": \"sum\",\n",
    "    \"meetings\": \"sum\",\n",
    "    \"total_meetings\": \"sum\",\n",
    "    \"treatment\": \"max\",\n",
    "    \"initial_treatment_date\": \"min\",\n",
    "    \"treatment_started\": \"max\",\n",
    "    \"received_treatment_and_started\": \"max\",\n",
    "    \"country_0\": \"max\",\n",
    "    \"country_AUT\": \"max\",\n",
    "    \"country_BEL\": \"max\",\n",
    "    \"country_BGR\": \"max\",\n",
    "    \"country_CYP\": \"max\",\n",
    "    \"country_CZE\": \"max\",\n",
    "    \"country_DEU\": \"max\",\n",
    "    \"country_DNK\": \"max\",\n",
    "    \"country_ESP\": \"max\",\n",
    "    \"country_EST\": \"max\",\n",
    "    \"country_FIN\": \"max\",\n",
    "    \"country_GBR\": \"max\",\n",
    "    \"country_GRC\": \"max\",\n",
    "    \"country_HRV\": \"max\",\n",
    "    \"country_HUN\": \"max\",\n",
    "    \"country_IRL\": \"max\",\n",
    "    \"country_ITA\": \"max\",\n",
    "    \"country_LTU\": \"max\",\n",
    "    \"country_LUX\": \"max\",\n",
    "    \"country_LVA\": \"max\",\n",
    "    \"country_MLT\": \"max\",\n",
    "    \"country_NLD\": \"max\",\n",
    "    \"country_POL\": \"max\",\n",
    "    \"country_PRT\": \"max\",\n",
    "    \"country_ROU\": \"max\",\n",
    "    \"country_SVK\": \"max\",\n",
    "    \"country_SVN\": \"max\",\n",
    "    \"country_SWE\": \"max\",\n",
    "    \"political_group_1533\": \"max\",\n",
    "    \"political_group_1534\": \"max\",\n",
    "    \"political_group_1537\": \"max\",\n",
    "    \"political_group_1538\": \"max\",\n",
    "    \"political_group_1539\": \"max\",\n",
    "    \"political_group_1541\": \"max\",\n",
    "    \"political_group_1550\": \"max\",\n",
    "    \"political_group_1554\": \"sum\",\n",
    "    \"political_group_3968\": \"sum\",\n",
    "    \"political_group_4273\": \"sum\",\n",
    "    \"political_group_4275\": \"max\",\n",
    "    \"political_group_4280\": \"max\",\n",
    "    \"political_group_4281\": \"max\",\n",
    "    \"political_group_4283\": \"max\",\n",
    "    \"political_group_4284\": \"max\",\n",
    "    \"political_group_4285\": \"max\",\n",
    "    \"political_group_4880\": \"max\",\n",
    "    \"political_group_4908\": \"max\",\n",
    "    \"political_group_5148\": \"max\",\n",
    "    \"political_group_5151\": \"max\",\n",
    "    \"political_group_5152\": \"max\",\n",
    "    \"political_group_5153\": \"max\",\n",
    "    \"political_group_5154\": \"max\",\n",
    "    \"political_group_5155\": \"max\",\n",
    "    \"political_group_5588\": \"max\",\n",
    "    \"political_group_5704\": \"max\",\n",
    "    \"political_group_6259\": \"max\",\n",
    "    \"political_group_6561\": \"max\",\n",
    "    \"political_group_7018\": \"max\",\n",
    "    \"political_group_7028\": \"max\",\n",
    "    \"political_group_7035\": \"max\",\n",
    "    \"political_group_7036\": \"max\",\n",
    "    \"political_group_7037\": \"max\",\n",
    "    \"political_group_7038\": \"max\",\n",
    "    \"political_group_7150\": \"max\",\n",
    "    \"political_group_7151\": \"max\",\n",
    "    \"COMMITTEE_PARLIAMENTARY_SPECIAL\": \"max\",\n",
    "    \"COMMITTEE_PARLIAMENTARY_STANDING\": \"max\",\n",
    "    \"COMMITTEE_PARLIAMENTARY_SUB\": \"max\",\n",
    "    \"COMMITTEE_PARLIAMENTARY_TEMPORARY\": \"max\",\n",
    "    \"DELEGATION_JOINT_COMMITTEE\": \"max\",\n",
    "    \"DELEGATION_PARLIAMENTARY\": \"max\",\n",
    "    \"DELEGATION_PARLIAMENTARY_ASSEMBLY\": \"max\",\n",
    "    \"EU_INSTITUTION\": \"max\",\n",
    "    \"EU_POLITICAL_GROUP\": \"max\",\n",
    "    \"NATIONAL_CHAMBER\": \"max\",\n",
    "    \"WORKING_GROUP\": \"max\",\n",
    "}"
   ]
  },
  {
   "cell_type": "code",
   "execution_count": 29,
   "metadata": {},
   "outputs": [
    {
     "name": "stderr",
     "output_type": "stream",
     "text": [
      "C:\\Users\\caca_\\AppData\\Local\\Packages\\PythonSoftwareFoundation.Python.3.12_qbz5n2kfra8p0\\LocalCache\\local-packages\\Python312\\site-packages\\pandas\\core\\arraylike.py:396: RuntimeWarning: divide by zero encountered in log\n",
      "  result = getattr(ufunc, method)(*inputs, **kwargs)\n"
     ]
    }
   ],
   "source": [
    "# Agregate date by year-week\n",
    "\n",
    "df_weekly = df_final.copy()\n",
    "\n",
    "df_weekly['date'] = df_weekly['date'].dt.strftime('%Y-%U')\n",
    "\n",
    "df_weekly = df_weekly.groupby([\"mep_id\", \"date\"]).agg(aggregation)\n",
    "\n",
    "df_weekly['question_log'] = np.log(df_weekly['questions'])\n",
    "\n",
    "# df_weekly.to_csv('./data/gold/panel_data_weekly.csv')"
   ]
  },
  {
   "cell_type": "code",
   "execution_count": 30,
   "metadata": {},
   "outputs": [
    {
     "name": "stderr",
     "output_type": "stream",
     "text": [
      "C:\\Users\\caca_\\AppData\\Local\\Packages\\PythonSoftwareFoundation.Python.3.12_qbz5n2kfra8p0\\LocalCache\\local-packages\\Python312\\site-packages\\pandas\\core\\arraylike.py:396: RuntimeWarning: divide by zero encountered in log\n",
      "  result = getattr(ufunc, method)(*inputs, **kwargs)\n"
     ]
    }
   ],
   "source": [
    "# Agregate date by year-month\n",
    "\n",
    "df_monthly = df_final.copy()\n",
    "\n",
    "df_monthly['date'] = df_monthly['date'].dt.strftime('%Y-%m')\n",
    "\n",
    "df_monthly = df_monthly.groupby([\"mep_id\", \"date\"]).agg(aggregation)\n",
    "\n",
    "df_monthly['question_log'] = np.log(df_monthly['questions'])\n",
    "\n",
    "# df_monthly.to_csv('./data/gold/panel_data_monthly.csv')\n"
   ]
  }
 ],
 "metadata": {
  "kernelspec": {
   "display_name": "Python 3",
   "language": "python",
   "name": "python3"
  },
  "language_info": {
   "codemirror_mode": {
    "name": "ipython",
    "version": 3
   },
   "file_extension": ".py",
   "mimetype": "text/x-python",
   "name": "python",
   "nbconvert_exporter": "python",
   "pygments_lexer": "ipython3",
   "version": "3.12.10"
  }
 },
 "nbformat": 4,
 "nbformat_minor": 2
}
