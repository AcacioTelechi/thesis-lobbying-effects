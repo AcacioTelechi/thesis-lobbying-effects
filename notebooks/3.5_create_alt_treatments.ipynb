{
 "cells": [
  {
   "cell_type": "code",
   "execution_count": 3,
   "id": "dd95bbf2",
   "metadata": {},
   "outputs": [],
   "source": [
    "from src.database import LongDatabase, RegularDatabase\n",
    "from src.lobbying_effects_model import LobbyingEffectsModel\n",
    "from src.models.ddd import model_continuous_ddd_ppml_fixest_rscript\n",
    "from src.models.fpanel import model_two_way_fixed_effects\n",
    "import pandas as pd"
   ]
  },
  {
   "cell_type": "code",
   "execution_count": null,
   "id": "43a016a3",
   "metadata": {},
   "outputs": [],
   "source": [
    "alt_treatments = [\n",
    "    \"meetings_l_category_Business\",\n",
    "    \"meetings_l_category_NGOs\",\n",
    "    \"meetings_l_category_Other\",\n",
    "    \"meetings_l_budget_cat_lower\",\n",
    "    \"meetings_l_budget_cat_middle\",\n",
    "    \"meetings_l_budget_cat_upper\",\n",
    "    \"meetings_l_days_since_registration_lower\",\n",
    "    \"meetings_l_days_since_registration_middle\",\n",
    "    \"meetings_l_days_since_registration_upper\",\n",
    "]\n",
    "\n",
    "for i, treatment in enumerate(alt_treatments):\n",
    "    db = LongDatabase()\n",
    "    original_db = db.get_df()\n",
    "    df = db.create_alternative_treatment(treatment)\n",
    "    df = db.add_controls(df)\n",
    "\n",
    "    print(\n",
    "        f\"Treatment: {treatment} - Original columns: {len(original_db.columns)} - New columns: {len(df.columns)}\"\n",
    "    )\n",
    "    print(f\"Mean of original: {original_db['meetings'].mean()}\")\n",
    "    print(f\"Mean of treatment: {df['meetings'].mean()}\")\n",
    "    \n",
    "    df.to_csv(f\"df_long_{treatment}.csv\", index=False)\n",
    "\n",
    "    print(f\"\\n\\nCompleted {i + 1} out of {len(alt_treatments)} \\n\\n\")"
   ]
  }
 ],
 "metadata": {
  "kernelspec": {
   "display_name": "Python 3",
   "language": "python",
   "name": "python3"
  },
  "language_info": {
   "codemirror_mode": {
    "name": "ipython",
    "version": 3
   },
   "file_extension": ".py",
   "mimetype": "text/x-python",
   "name": "python",
   "nbconvert_exporter": "python",
   "pygments_lexer": "ipython3",
   "version": "3.12.10"
  }
 },
 "nbformat": 4,
 "nbformat_minor": 5
}
