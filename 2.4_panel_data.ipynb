{
 "cells": [
  {
   "cell_type": "code",
   "execution_count": 5,
   "metadata": {},
   "outputs": [],
   "source": [
    "import pandas as pd\n",
    "import matplotlib.pyplot as plt"
   ]
  },
  {
   "cell_type": "code",
   "execution_count": 6,
   "metadata": {},
   "outputs": [],
   "source": [
    "df_questions_ymd = pd.read_csv('./data/silver/df_questions_by_period_YYYY-MM-DD.csv', index_col=0)\n",
    "df_meetings_ymd = pd.read_csv('./data/silver/df_meetings_by_period_YYYY-MM-DD.csv', index_col=0)\n",
    "\n",
    "df_meps = pd.read_csv('./data/silver/mep_membership_timeline.csv')"
   ]
  },
  {
   "cell_type": "code",
   "execution_count": 7,
   "metadata": {},
   "outputs": [],
   "source": [
    "all_periods = sorted(set(df_questions_ymd.columns.tolist() + df_meetings_ymd.columns.tolist()))\n",
    "\n",
    "# Fill missing periods with 0\n",
    "df_questions = df_questions_ymd.reindex(all_periods, axis=1, fill_value=0)\n",
    "df_meetings = df_meetings_ymd.reindex(all_periods, axis=1, fill_value=0)"
   ]
  },
  {
   "cell_type": "markdown",
   "metadata": {},
   "source": [
    "# Combine dataframes\n",
    "\n"
   ]
  },
  {
   "cell_type": "code",
   "execution_count": 8,
   "metadata": {},
   "outputs": [],
   "source": [
    "# I need to transform the columns into rows\n",
    "df_questions_melted = df_questions.melt(ignore_index=False, var_name='date', value_name='questions')\n",
    "df_meetings_melted = df_meetings.melt(ignore_index=False, var_name='date', value_name='meetings')\n",
    "\n",
    "# Reset index to handle duplicate indices\n",
    "df_questions_melted = df_questions_melted.reset_index()\n",
    "df_meetings_melted = df_meetings_melted.reset_index()\n",
    "\n",
    "# now join the two dataframes\n",
    "df_combined = pd.merge(df_questions_melted, df_meetings_melted, \n",
    "                      on=['member_id', 'date'])\n",
    "\n",
    "# Aggregate the data by week\n",
    "# df_combined['date'] = pd.to_datetime(df_combined['date']).dt.strftime('%Y-%U')\n",
    "# df_combined = df_combined.groupby(['member_id', 'date']).sum().reset_index()\n"
   ]
  },
  {
   "cell_type": "markdown",
   "metadata": {},
   "source": [
    "# Add MEP data"
   ]
  },
  {
   "cell_type": "code",
   "execution_count": 9,
   "metadata": {},
   "outputs": [],
   "source": [
    "df_combined[\"member_id\"] = df_combined[\"member_id\"].astype(int)\n",
    "\n",
    "df = df_meps.merge(\n",
    "    df_questions_melted,\n",
    "    right_on=[\"member_id\", \"date\"],\n",
    "    left_on=[\"ID\", \"date\"],\n",
    "    how=\"left\",\n",
    ").merge(\n",
    "    df_meetings_melted,\n",
    "    right_on=[\"member_id\", \"date\"],\n",
    "    left_on=[\"ID\", \"date\"],\n",
    "    how=\"left\",\n",
    ")"
   ]
  },
  {
   "cell_type": "markdown",
   "metadata": {},
   "source": [
    "# fILL NA"
   ]
  },
  {
   "cell_type": "code",
   "execution_count": 13,
   "metadata": {},
   "outputs": [],
   "source": [
    "df = df.fillna(0)"
   ]
  },
  {
   "cell_type": "markdown",
   "metadata": {},
   "source": [
    "# Add dummies"
   ]
  },
  {
   "cell_type": "code",
   "execution_count": 14,
   "metadata": {},
   "outputs": [],
   "source": [
    "new_columns = []\n",
    "\n",
    "# Drop political group 0 as reference category\n",
    "political_groups = df[\"POLITICAL_GROUP\"].unique()\n",
    "political_groups = political_groups[political_groups != 0]  # Remove 0\n",
    "for group in political_groups:\n",
    "    col_name = f\"political_group_{int(group)}\"\n",
    "    new_columns.append(col_name)\n",
    "    df[col_name] = (df[\"POLITICAL_GROUP\"] == group).astype(int)\n",
    "\n",
    "\n",
    "\n",
    "# DROP country FRA as reference\n",
    "countries = df[\"COUNTRY\"].unique()\n",
    "countries = countries[countries != \"FRA\"]  #FRA as Reference\n",
    "for country in countries:\n",
    "    col_name = f\"country_{country}\"\n",
    "    new_columns.append(col_name)\n",
    "    df[col_name] = (df[\"COUNTRY\"] == country).astype(int)"
   ]
  },
  {
   "cell_type": "markdown",
   "metadata": {},
   "source": [
    "# Clean columns"
   ]
  },
  {
   "cell_type": "code",
   "execution_count": 22,
   "metadata": {},
   "outputs": [],
   "source": [
    "cols_to_ignore = [\n",
    "    'date', # sort\n",
    "    'meetings', # sort\n",
    "    'questions', # sort\n",
    "    \"ID\",\n",
    "    \"member_id_x\",\n",
    "    \"member_id_y\",\n",
    "    \"POLITICAL_GROUP\",\n",
    "    \"COUNTRY\",\n",
    "    \" - CHAIR\",\n",
    "    \" - CHAIR_VICE\",\n",
    "    \" - MEMBER\",\n",
    "    \" - MEMBER_PARLIAMENT\",\n",
    "    \" - PRESIDENT\",\n",
    "    \" - PRESIDENT_PARLIAMENT_STOA\",\n",
    "    \" - PRESIDENT_VICE\",\n",
    "    \" - QUAESTOR\",\n",
    "]"
   ]
  },
  {
   "cell_type": "code",
   "execution_count": 28,
   "metadata": {},
   "outputs": [],
   "source": [
    "cols_to_select = [c for c in df.columns if c not in cols_to_ignore]\n",
    "cols_to_select.sort()\n",
    "\n",
    "\n",
    "df_gold = df[[\"ID\", \"date\", \"questions\", \"meetings\", *cols_to_select]].rename(\n",
    "    {\"ID\": \"mep_id\"}, axis=1\n",
    ")"
   ]
  },
  {
   "cell_type": "code",
   "execution_count": 29,
   "metadata": {},
   "outputs": [],
   "source": [
    "df_gold.to_csv('./data/gold/panel_data_3.csv', index=False)"
   ]
  }
 ],
 "metadata": {
  "kernelspec": {
   "display_name": "Python 3",
   "language": "python",
   "name": "python3"
  },
  "language_info": {
   "codemirror_mode": {
    "name": "ipython",
    "version": 3
   },
   "file_extension": ".py",
   "mimetype": "text/x-python",
   "name": "python",
   "nbconvert_exporter": "python",
   "pygments_lexer": "ipython3",
   "version": "3.12.9"
  }
 },
 "nbformat": 4,
 "nbformat_minor": 2
}
