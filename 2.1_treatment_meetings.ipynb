{
 "cells": [
  {
   "cell_type": "code",
   "execution_count": 3,
   "metadata": {},
   "outputs": [],
   "source": [
    "import pandas as pd\n"
   ]
  },
  {
   "cell_type": "markdown",
   "metadata": {},
   "source": [
    "# Meetings"
   ]
  },
  {
   "cell_type": "code",
   "execution_count": 4,
   "metadata": {},
   "outputs": [],
   "source": [
    "df_mathces = pd.read_csv('./high_confidence_matches.csv')\n",
    "df_meetings = pd.read_csv('./data/meetings.csv')\n",
    "df_register = pd.read_excel(\n",
    "    r\"D:\\OneDrive\\UFPR\\00.PPGCP\\00. Doutorado\\Tese\\Base de dados\\Transparency register\\Organisations in Transparency Register-2024-JAN.xls\"\n",
    ")"
   ]
  },
  {
   "cell_type": "markdown",
   "metadata": {},
   "source": [
    "## No entity specific data"
   ]
  },
  {
   "cell_type": "code",
   "execution_count": 10,
   "metadata": {},
   "outputs": [],
   "source": [
    "df_m_ymd = df_meetings.pivot_table(index='member_id', columns=\"meeting_date\", values='title', aggfunc='nunique', fill_value=0)\n",
    "df_m_ymd.to_csv('./data/silver/df_meetings_by_period_YYYY-MM-DD.csv')"
   ]
  },
  {
   "cell_type": "markdown",
   "metadata": {},
   "source": [
    "# Entity spcefic data"
   ]
  },
  {
   "cell_type": "code",
   "execution_count": 17,
   "metadata": {},
   "outputs": [],
   "source": [
    "df_combined = df_mathces.merge(df_register, left_on='matched_organization', right_on='Name')"
   ]
  },
  {
   "cell_type": "code",
   "execution_count": 18,
   "metadata": {},
   "outputs": [],
   "source": [
    "cat_mapper = {\n",
    "    \"Non-governmental organisations, platforms and networks and similar\": \"NGOs\",\n",
    "    \"Trade and business associations\": \"Business\",\n",
    "    \"Companies & groups\": \"Business\",\n",
    "    \"Other organisations, public or mixed entities\": \"Other\",\n",
    "    \"Trade unions and professional associations\": \"Other\",\n",
    "    \"Self-employed individuals\": \"Other\",\n",
    "    \"Think tanks and research institutions\": \"Other\",\n",
    "    \"Professional consultancies\": \"Other\",\n",
    "    \"Academic institutions\": \"Other\",\n",
    "    \"Associations and networks of public authorities\": \"Other\",\n",
    "    \"Organisations representing churches and religious communities\": \"Other\",\n",
    "    \"Law firms\": \"Other\",\n",
    "    \"Entities, offices or networks established by third countries\": \"Other\",\n",
    "}\n",
    "\n",
    "\n",
    "# df_combined[\"month\"] = df_combined[\"meeting_date\"].apply(lambda x: \"-\".join(x.split(\"-\")[:2]))\n",
    "df_combined[\"cat_mapped\"] = df_combined[\"Category of registration\"].apply(\n",
    "    lambda x: cat_mapper.get(x)\n",
    ")"
   ]
  },
  {
   "cell_type": "code",
   "execution_count": 21,
   "metadata": {},
   "outputs": [],
   "source": [
    "# df_m_ym = df_combined.pivot_table(index='member_id', columns=\"month\", values='title', aggfunc='nunique', fill_value=0)\n",
    "df_m_ymd = df_combined.pivot_table(index='member_id', columns=\"meeting_date\", values='title', aggfunc='nunique', fill_value=0)"
   ]
  },
  {
   "cell_type": "code",
   "execution_count": 23,
   "metadata": {},
   "outputs": [],
   "source": [
    "# df_m_ym.to_csv('./data/silver/df_meetings_by_period_YYYY-MM.csv')\n",
    "df_m_ymd.to_csv('./data/silver/df_meetings_w_entity_data_by_period_YYYY-MM-DD.csv')"
   ]
  },
  {
   "cell_type": "markdown",
   "metadata": {},
   "source": [
    "# save"
   ]
  }
 ],
 "metadata": {
  "kernelspec": {
   "display_name": "Python 3",
   "language": "python",
   "name": "python3"
  },
  "language_info": {
   "codemirror_mode": {
    "name": "ipython",
    "version": 3
   },
   "file_extension": ".py",
   "mimetype": "text/x-python",
   "name": "python",
   "nbconvert_exporter": "python",
   "pygments_lexer": "ipython3",
   "version": "3.12.9"
  }
 },
 "nbformat": 4,
 "nbformat_minor": 2
}
