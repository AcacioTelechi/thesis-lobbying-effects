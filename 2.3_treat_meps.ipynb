{
 "cells": [
  {
   "cell_type": "code",
   "execution_count": 1,
   "metadata": {},
   "outputs": [],
   "source": [
    "import pandas as pd\n",
    "import json"
   ]
  },
  {
   "cell_type": "code",
   "execution_count": 2,
   "metadata": {},
   "outputs": [],
   "source": [
    "df_meps_raw = pd.read_csv('data/mep_detail.csv')\n",
    "df_meps_raw['hasMembership'] = df_meps_raw['hasMembership'].str.replace(\"'\", '\"').apply(json.loads)"
   ]
  },
  {
   "cell_type": "code",
   "execution_count": 3,
   "metadata": {},
   "outputs": [],
   "source": [
    "from datetime import datetime, timedelta\n",
    "import pandas as pd\n",
    "from collections import defaultdict\n",
    "from tqdm import tqdm\n",
    "\n",
    "def generate_dates(start_date: datetime, end_date: datetime):\n",
    "    dates = []\n",
    "    current_date = start_date\n",
    "    while current_date <= end_date:\n",
    "        dates.append(current_date)\n",
    "        current_date += timedelta(days=1)\n",
    "    return dates\n",
    "\n",
    "def create_membership_timeline(mep_id, memberships_data, dates: list[datetime] | None):\n",
    "    if not dates:\n",
    "        # Get all unique dates where changes happen\n",
    "        dates = set()\n",
    "        for membership in memberships_data:\n",
    "            member_during = membership.get('memberDuring', {})\n",
    "            start_date = member_during.get('startDate')\n",
    "            end_date = member_during.get('endDate')\n",
    "            \n",
    "            if start_date:\n",
    "                dates.add(start_date)\n",
    "            if end_date:\n",
    "                end_dt = datetime.strptime(end_date, '%Y-%m-%d')\n",
    "                dates.add(end_dt.strftime('%Y-%m-%d'))\n",
    "    \n",
    "    dates = sorted(dates)\n",
    "    \n",
    "    # Initialize results structure\n",
    "    timeline = []\n",
    "    \n",
    "    # For each date, check active memberships\n",
    "    for date in dates:\n",
    "        date_data = defaultdict(int)\n",
    "        if isinstance(date, str):\n",
    "            current_date = datetime.strptime(date, '%Y-%m-%d')\n",
    "        else:\n",
    "            current_date = date\n",
    "        \n",
    "        # Add the MEP ID\n",
    "        date_data['ID'] = mep_id\n",
    "        date_data['date'] = date\n",
    "        \n",
    "        # Check each membership\n",
    "        for membership in memberships_data:\n",
    "            member_during = membership.get('memberDuring', {})\n",
    "            start_date = member_during.get('startDate')\n",
    "            end_date = member_during.get('endDate')\n",
    "            \n",
    "            # Check if membership is active on this date\n",
    "            is_active = False\n",
    "            if start_date:\n",
    "                start_dt = datetime.strptime(start_date, '%Y-%m-%d')\n",
    "                if end_date:\n",
    "                    end_dt = datetime.strptime(end_date, '%Y-%m-%d')\n",
    "                    is_active = start_dt <= current_date <= end_dt\n",
    "                else:\n",
    "                    is_active = start_dt <= current_date\n",
    "            \n",
    "            if is_active:\n",
    "                # Handle country representation\n",
    "                if 'represents' in membership:\n",
    "                    date_data['COUNTRY'] = membership['represents'].split('/')[-1]\n",
    "                \n",
    "                # Handle organization (like political group)\n",
    "                org = membership.get('organization', '')\n",
    "                if org:\n",
    "                    org_type = membership.get('membershipClassification', '').split('/')[-1]\n",
    "                    if org_type == 'EU_POLITICAL_GROUP':\n",
    "                        date_data['POLITICAL_GROUP'] = org.split('/')[-1]\n",
    "                \n",
    "                # Handle role\n",
    "                entity = membership.get('membershipClassification', '').split('/')[-1]\n",
    "                role = membership.get('role', '').split('/')[-1]\n",
    "                date_data[f\"{entity} - {role}\"] = 1\n",
    "                \n",
    "        \n",
    "        timeline.append(dict(date_data))\n",
    "    \n",
    "    # Convert to DataFrame\n",
    "    df = pd.DataFrame(timeline)\n",
    "    \n",
    "    return df"
   ]
  },
  {
   "cell_type": "markdown",
   "metadata": {},
   "source": [
    "# Selecionar datas dos outros dois dataframes\n",
    "\n",
    "Utilizar a base inteira resulta em um dataframe muito pesado sem necessidade.\n"
   ]
  },
  {
   "cell_type": "code",
   "execution_count": 4,
   "metadata": {},
   "outputs": [],
   "source": [
    "df_questions_ymd = pd.read_csv('./data/silver/df_questions_by_period_YYYY-MM-DD.csv', index_col=0)\n",
    "df_meetings_ymd = pd.read_csv('./data/silver/df_meetings_by_period_YYYY-MM-DD.csv', index_col=0)\n",
    "\n",
    "dates = sorted(set(df_questions_ymd.columns.tolist() + df_meetings_ymd.columns.tolist()))\n",
    "dates = [datetime.strptime(d, \"%Y-%m-%d\") for d in dates]\n",
    "\n",
    "# Get unique MEP Ids\n",
    "mep_ids =[int(mid) for mid in set(list(df_questions_ymd.index) + list(df_meetings_ymd.index))]"
   ]
  },
  {
   "cell_type": "markdown",
   "metadata": {},
   "source": [
    "# Run"
   ]
  },
  {
   "cell_type": "code",
   "execution_count": 17,
   "metadata": {},
   "outputs": [
    {
     "name": "stderr",
     "output_type": "stream",
     "text": [
      "100%|██████████| 1353/1353 [33:19<00:00,  1.48s/it]\n"
     ]
    }
   ],
   "source": [
    "df_to_run = df_meps_raw[df_meps_raw['notation_codictPersonId'].isin(mep_ids)].reset_index(drop=True)\n",
    "\n",
    "df_final = pd.DataFrame()\n",
    "\n",
    "for index, row in tqdm(df_to_run.iterrows(), total=len(df_to_run)):\n",
    "    mep_id = row['id'].split('/')[-1]\n",
    "    df = create_membership_timeline(mep_id, row['hasMembership'], dates)\n",
    "    df_final = pd.concat([df_final, df])\n",
    "\n",
    "\n",
    "df_final.sort_values(by=['ID', 'date'], inplace=True)\n",
    "\n",
    "df_final.to_csv('./data/silver/mep_membership_timeline.csv', index=False)\n"
   ]
  }
 ],
 "metadata": {
  "kernelspec": {
   "display_name": "Python 3",
   "language": "python",
   "name": "python3"
  },
  "language_info": {
   "codemirror_mode": {
    "name": "ipython",
    "version": 3
   },
   "file_extension": ".py",
   "mimetype": "text/x-python",
   "name": "python",
   "nbconvert_exporter": "python",
   "pygments_lexer": "ipython3",
   "version": "3.12.9"
  }
 },
 "nbformat": 4,
 "nbformat_minor": 2
}
