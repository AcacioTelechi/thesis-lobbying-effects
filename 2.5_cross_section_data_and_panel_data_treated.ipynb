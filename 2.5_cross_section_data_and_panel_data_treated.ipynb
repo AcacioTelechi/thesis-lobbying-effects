{
 "cells": [
  {
   "cell_type": "code",
   "execution_count": 1,
   "metadata": {},
   "outputs": [],
   "source": [
    "import pandas as pd\n",
    "\n",
    "import matplotlib.pyplot as plt\n",
    "import seaborn as sns\n",
    "\n",
    "import numpy as np"
   ]
  },
  {
   "cell_type": "code",
   "execution_count": 2,
   "metadata": {},
   "outputs": [],
   "source": [
    "df = pd.read_csv(\"./data/gold/panel_data_3.csv\")\n",
    "df[\"date\"] = pd.to_datetime(df[\"date\"])"
   ]
  },
  {
   "cell_type": "code",
   "execution_count": 3,
   "metadata": {},
   "outputs": [],
   "source": [
    "df_questions_and_meetings = (\n",
    "    df[[\"mep_id\", \"questions\", \"meetings\"]].groupby(\"mep_id\").sum()\n",
    ")\n",
    "df_mep_data = df[[\"mep_id\", *df.columns[4:]]].groupby(\"mep_id\").max()\n",
    "df_cros = df_questions_and_meetings.join(df_mep_data)\n",
    "\n",
    "df_cros[\"questions_log\"] = np.log(df_cros[\"questions\"] + 1)"
   ]
  },
  {
   "cell_type": "markdown",
   "metadata": {},
   "source": [
    "# Aggregate memembership vars"
   ]
  },
  {
   "cell_type": "code",
   "execution_count": 4,
   "metadata": {},
   "outputs": [],
   "source": [
    "from collections import defaultdict\n",
    "\n",
    "\n",
    "unique_memberships = []\n",
    "for m in [\n",
    "    c.split(\" - \")[0].strip() for c in df_cros.columns if len(c.split(\" - \")) > 1\n",
    "]:\n",
    "    if m not in unique_memberships:\n",
    "        unique_memberships.append(m)\n",
    "\n",
    "\n",
    "memebership_summary = []\n",
    "for index, row in df_cros.iterrows():\n",
    "    res = defaultdict(int)\n",
    "    for m in unique_memberships:\n",
    "        m_values = []\n",
    "        for c, v in row.items():\n",
    "            if m in c:\n",
    "                m_values.append(v)\n",
    "        res[m] = max(m_values)\n",
    "    res[\"mep_id\"] = index\n",
    "    memebership_summary.append(res)\n",
    "\n",
    "df_m_summary = pd.DataFrame(memebership_summary).set_index(\"mep_id\")\n",
    "\n",
    "\n",
    "new_columns = []\n",
    "for c in df_cros.columns:\n",
    "    teste = [m for m in unique_memberships if m in c]\n",
    "    if len(teste) > 0:\n",
    "        continue\n",
    "    new_columns.append(c)\n",
    "\n",
    "\n",
    "df_cros_summ = df_cros[new_columns].join(df_m_summary)"
   ]
  },
  {
   "cell_type": "code",
   "execution_count": 5,
   "metadata": {},
   "outputs": [],
   "source": [
    "del df_cros_summ[\"EU_INSTITUTION\"]\n",
    "del df_cros_summ[\"EU_POLITICAL_GROUP\"]\n",
    "del df_cros_summ[\"NATIONAL_CHAMBER\"]"
   ]
  },
  {
   "cell_type": "code",
   "execution_count": 6,
   "metadata": {},
   "outputs": [],
   "source": [
    "df_cros_summ.to_csv(\"./data/gold/cross_section.csv\")"
   ]
  },
  {
   "cell_type": "markdown",
   "metadata": {},
   "source": [
    "# Treatment data"
   ]
  },
  {
   "cell_type": "code",
   "execution_count": 7,
   "metadata": {},
   "outputs": [],
   "source": [
    "df_treatment = df[[\"mep_id\", \"meetings\"]].groupby(\"mep_id\").sum()\n",
    "df_treatment[\"treatment\"] = df_treatment[\"meetings\"] > 0\n",
    "\n",
    "df_treatment_period = df[[\"mep_id\", \"date\", \"meetings\"]].sort_values([\"mep_id\", \"date\"])\n",
    "\n",
    "df_treatment_period[\"is_treatment\"] = (df_treatment_period[\"meetings\"] > 0).astype(int)\n",
    "\n",
    "df_initial_treatment_dates = (\n",
    "    df_treatment_period[df_treatment_period[\"is_treatment\"] == True]\n",
    "    .groupby([\"mep_id\"])\n",
    "    .min()\n",
    ")\n",
    "\n",
    "del df_initial_treatment_dates[\"meetings\"]\n",
    "del df_initial_treatment_dates[\"is_treatment\"]\n",
    "\n",
    "df_treatment = df_treatment.join(df_initial_treatment_dates).rename(\n",
    "    {\"date\": \"initial_treatment_date\", \"meetings\": \"total_meetings\"}, axis=1\n",
    ")\n",
    "\n",
    "df_treatment[\"treatment\"] = df_treatment[\"treatment\"].astype(int)"
   ]
  },
  {
   "cell_type": "markdown",
   "metadata": {},
   "source": [
    "# Aggregate membership columns in panel data"
   ]
  },
  {
   "cell_type": "code",
   "execution_count": 8,
   "metadata": {},
   "outputs": [],
   "source": [
    "df_memeberships = pd.DataFrame()\n",
    "for m in unique_memberships:\n",
    "    df_memeberships[m] = df.loc[:, [c for c in df.columns if m in c]].max(axis=1)"
   ]
  },
  {
   "cell_type": "markdown",
   "metadata": {},
   "source": [
    "# Add treatment data"
   ]
  },
  {
   "cell_type": "code",
   "execution_count": 9,
   "metadata": {},
   "outputs": [],
   "source": [
    "df_final = df.merge(df_treatment, left_on=\"mep_id\", right_index=True)"
   ]
  },
  {
   "cell_type": "code",
   "execution_count": 10,
   "metadata": {},
   "outputs": [],
   "source": [
    "df_final[\"treatment_started\"] = df_final[\"date\"] >= df_final[\"initial_treatment_date\"]\n",
    "df_final[\"received_treatment_and_started\"] = (\n",
    "    df_final[\"treatment\"] * df_final[\"treatment_started\"]\n",
    ")\n",
    "\n",
    "df_final[\"received_treatment_and_started\"] = df_final[\n",
    "    \"received_treatment_and_started\"\n",
    "].astype(int)"
   ]
  },
  {
   "cell_type": "code",
   "execution_count": 11,
   "metadata": {},
   "outputs": [],
   "source": [
    "df_final['quetions_log'] = np.log(df_final['questions'] + 1)"
   ]
  },
  {
   "cell_type": "markdown",
   "metadata": {},
   "source": [
    "## add memeberships"
   ]
  },
  {
   "cell_type": "code",
   "execution_count": 12,
   "metadata": {},
   "outputs": [],
   "source": [
    "df_final = df_final.join(df_memeberships)"
   ]
  },
  {
   "cell_type": "code",
   "execution_count": 13,
   "metadata": {},
   "outputs": [],
   "source": [
    "important_columns = [\n",
    "    'mep_id',\n",
    "    'date',\n",
    "    'questions',\n",
    "    'quetions_log',\n",
    "    'meetings',\n",
    "    'total_meetings',\n",
    "    'treatment',\n",
    "    'initial_treatment_date',\n",
    "    'treatment_started',\n",
    "    'received_treatment_and_started'\n",
    "]\n",
    "country_columns = [c for c in df_final.columns if 'country' in c]\n",
    "p_groups_columns = [c for c in df_final.columns if 'political_group' in c]\n",
    "membership_columns = unique_memberships\n",
    "\n",
    "columns_to_keep = important_columns + country_columns + p_groups_columns + membership_columns\n"
   ]
  },
  {
   "cell_type": "code",
   "execution_count": 14,
   "metadata": {},
   "outputs": [],
   "source": [
    "df_final = df_final[columns_to_keep]\n"
   ]
  },
  {
   "cell_type": "code",
   "execution_count": 16,
   "metadata": {},
   "outputs": [],
   "source": [
    "df_final.to_csv(\"./data/gold/panel_data_treated.csv\", index=False)"
   ]
  }
 ],
 "metadata": {
  "kernelspec": {
   "display_name": "Python 3",
   "language": "python",
   "name": "python3"
  },
  "language_info": {
   "codemirror_mode": {
    "name": "ipython",
    "version": 3
   },
   "file_extension": ".py",
   "mimetype": "text/x-python",
   "name": "python",
   "nbconvert_exporter": "python",
   "pygments_lexer": "ipython3",
   "version": "3.12.9"
  }
 },
 "nbformat": 4,
 "nbformat_minor": 2
}
